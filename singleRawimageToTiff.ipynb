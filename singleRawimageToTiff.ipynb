{
 "cells": [
  {
   "cell_type": "code",
   "execution_count": 2,
   "metadata": {},
   "outputs": [],
   "source": [
    "#single rawimage to .tiff\n",
    "#imageio version\n",
    "\n",
    "import rawpy\n",
    "import imageio\n",
    "\n",
    "raw = rawpy.imread('chocolate.ARW')\n",
    "\n",
    "rgb = raw.postprocess()\n",
    "imageio.imsave('default.tiff', rgb)\n",
    "\n",
    "rgb = raw.postprocess(gamma=(1,1), no_auto_bright=True, output_bps=16, use_camera_wb=True,  fbdd_noise_reduction=rawpy.FBDDNoiseReductionMode.Full)\n",
    "imageio.imsave('linear.tiff', rgb)\n",
    "\n",
    "# postprocessのパラメータは以下を参照\n",
    "# https://letmaik.github.io/rawpy/api/rawpy.Params.html"
   ]
  },
  {
   "cell_type": "code",
   "execution_count": null,
   "metadata": {},
   "outputs": [],
   "source": [
    "#single rawimage to .tiff\n",
    "#openCV version\n",
    "\n",
    "import rawpy\n",
    "import cv2\n",
    "\n",
    "raw = rawpy.imread('chocolate.ARW')\n",
    "\n",
    "rgb = raw.postprocess()\n",
    "cv2.imwrite('default.tiff', rgb)\n",
    "\n",
    "rgb = raw.postprocess(gamma=(1,1), no_auto_bright=True, output_bps=16, use_camera_wb=True,  fbdd_noise_reduction=rawpy.FBDDNoiseReductionMode.Full)\n",
    "cv2.imwrite('linear.tiff', rgb)\n",
    "\n",
    "# postprocessのパラメータは以下を参照\n",
    "# https://letmaik.github.io/rawpy/api/rawpy.Params.html"
   ]
  }
 ],
 "metadata": {
  "kernelspec": {
   "display_name": "Python 3",
   "language": "python",
   "name": "python3"
  },
  "language_info": {
   "codemirror_mode": {
    "name": "ipython",
    "version": 3
   },
   "file_extension": ".py",
   "mimetype": "text/x-python",
   "name": "python",
   "nbconvert_exporter": "python",
   "pygments_lexer": "ipython3",
   "version": "3.6.5"
  }
 },
 "nbformat": 4,
 "nbformat_minor": 2
}
